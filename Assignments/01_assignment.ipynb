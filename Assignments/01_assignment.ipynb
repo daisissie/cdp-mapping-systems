{
 "cells": [
  {
   "cell_type": "code",
   "execution_count": 1,
   "metadata": {},
   "outputs": [],
   "source": [
    "# the bare minimum\n",
    "import matplotlib.pyplot as plt\n",
    "import geopandas as gpd\n",
    "\n",
    "# more advanced\n",
    "import pyogrio as ogr\n",
    "from sklearn.cluster import KMeans\n",
    "from lonboard import Map, PolygonLayer\n",
    "from lonboard.colormap import apply_categorical_cmap, apply_continuous_cmap\n",
    "from palettable.colorbrewer.sequential import PuRd_9\n",
    "from matplotlib.colors import LogNorm\n",
    "\n",
    "import pydeck as pdk"
   ]
  }
 ],
 "metadata": {
  "kernelspec": {
   "display_name": "cdp_mapping",
   "language": "python",
   "name": "python3"
  },
  "language_info": {
   "codemirror_mode": {
    "name": "ipython",
    "version": 3
   },
   "file_extension": ".py",
   "mimetype": "text/x-python",
   "name": "python",
   "nbconvert_exporter": "python",
   "pygments_lexer": "ipython3",
   "version": "3.12.3"
  }
 },
 "nbformat": 4,
 "nbformat_minor": 2
}
